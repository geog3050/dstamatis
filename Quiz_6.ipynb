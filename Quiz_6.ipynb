{
 "cells": [
  {
   "cell_type": "code",
   "execution_count": 66,
   "metadata": {},
   "outputs": [],
   "source": [
    "import arcpy"
   ]
  },
  {
   "cell_type": "code",
   "execution_count": 81,
   "metadata": {},
   "outputs": [],
   "source": [
    "input_geodatabase = \"C:/Users/dstamatis/OneDrive - University of Iowa/Desktop/chp9Data/chp9Data/quiz6.gdb/quiz6.gdb\""
   ]
  },
  {
   "cell_type": "code",
   "execution_count": 82,
   "metadata": {},
   "outputs": [],
   "source": [
    "arcpy.env.workspace = input_geodatabase"
   ]
  },
  {
   "cell_type": "code",
   "execution_count": 83,
   "metadata": {},
   "outputs": [
    {
     "name": "stdout",
     "output_type": "stream",
     "text": [
      "Workspace: C:/Users/dstamatis/OneDrive - University of Iowa/Desktop/chp9Data/chp9Data/quiz6.gdb/quiz6.gdb\n"
     ]
    }
   ],
   "source": [
    "print(\"Workspace:\", arcpy.env.workspace)"
   ]
  },
  {
   "cell_type": "code",
   "execution_count": 70,
   "metadata": {},
   "outputs": [],
   "source": [
    "fcList = arcpy.ListFeatureClasses()"
   ]
  },
  {
   "cell_type": "code",
   "execution_count": 84,
   "metadata": {},
   "outputs": [
    {
     "name": "stdout",
     "output_type": "stream",
     "text": [
      "Feature Classes: ['parks', 'block_groups']\n"
     ]
    }
   ],
   "source": [
    "print(\"Feature Classes:\",fcList)"
   ]
  },
  {
   "cell_type": "code",
   "execution_count": 85,
   "metadata": {},
   "outputs": [],
   "source": [
    "arcpy.env.overwriteOutput = True"
   ]
  },
  {
   "cell_type": "code",
   "execution_count": 86,
   "metadata": {},
   "outputs": [],
   "source": [
    "def calculatePercentAreaOfPolygonAInPolygonB(input_geodatabase, fcPolygonA, fcPolygonB, idFieldPolygonB=None):\n",
    "    # Add a new field to store the percentage of area\n",
    "    arcpy.AddField_management(fcPolygonB, \"Percent_Area\", \"DOUBLE\")"
   ]
  },
  {
   "cell_type": "code",
   "execution_count": 87,
   "metadata": {},
   "outputs": [
    {
     "ename": "IndentationError",
     "evalue": "unexpected indent (<string>, line 2)",
     "output_type": "error",
     "traceback": [
      "\u001b[0;31m---------------------------------------------------------------------------\u001b[0m\n\u001b[0;31mIndentationError\u001b[0m                          Traceback (most recent call last)",
      "File \u001b[0;34mC:\\Program Files\\ArcGIS\\Pro\\bin\\Python\\envs\\arcgispro-py3\\lib\\ast.py\u001b[0m, in \u001b[0;32mparse\u001b[0m:\nLine \u001b[0;34m50\u001b[0m:    \u001b[34mreturn\u001b[39;49;00m \u001b[36mcompile\u001b[39;49;00m(source, filename, mode, flags,\n",
      "\u001b[0;31mIndentationError\u001b[0m: unexpected indent (<string>, line 2)\n\u001b[0;31m---------------------------------------------------------------------------\u001b[0m"
     ]
    }
   ],
   "source": [
    "# Creates a dictionary to store areas of features in fcPolygonA\n",
    "    area_dict = {}\n",
    "    with arcpy.da.SearchCursor(fcPolygonA, [\"OID@\", \"SHAPE@AREA\"]) as cursor:\n",
    "        for row in cursor:\n",
    "            area_dict[row[0]] = row[1]"
   ]
  },
  {
   "cell_type": "code",
   "execution_count": 79,
   "metadata": {
    "scrolled": true
   },
   "outputs": [
    {
     "ename": "IndentationError",
     "evalue": "unexpected indent (<string>, line 2)",
     "output_type": "error",
     "traceback": [
      "\u001b[0;31m---------------------------------------------------------------------------\u001b[0m\n\u001b[0;31mIndentationError\u001b[0m                          Traceback (most recent call last)",
      "File \u001b[0;34mC:\\Program Files\\ArcGIS\\Pro\\bin\\Python\\envs\\arcgispro-py3\\lib\\ast.py\u001b[0m, in \u001b[0;32mparse\u001b[0m:\nLine \u001b[0;34m50\u001b[0m:    \u001b[34mreturn\u001b[39;49;00m \u001b[36mcompile\u001b[39;49;00m(source, filename, mode, flags,\n",
      "\u001b[0;31mIndentationError\u001b[0m: unexpected indent (<string>, line 2)\n\u001b[0;31m---------------------------------------------------------------------------\u001b[0m"
     ]
    }
   ],
   "source": [
    "# Calculates area of intersections and percentage\n",
    "    with arcpy.da.UpdateCursor(fcPolygonB, [\"OID@\", \"SHAPE@AREA\", \"Percent_Area\"] + ([idFieldPolygonB] if idFieldPolygonB else [])) as cursor:\n",
    "        for row in cursor:\n",
    "            total_area_b = row[1]\n",
    "            intersect_area = 0\n",
    "            with arcpy.da.SearchCursor(fcPolygonA, [\"SHAPE@\"]) as cursor_a:\n",
    "                for row_a in cursor_a:\n",
    "                    intersect = row_a[0].intersect(row[1], 4)\n",
    "                    intersect_area += intersect.area\n",
    "            percent_area = (intersect_area / total_area_b) * 100\n",
    "            row[2] = percent_area\n",
    "            cursor.updateRow(row)\n",
    "\n",
    "    del cursor\n"
   ]
  },
  {
   "cell_type": "code",
   "execution_count": 80,
   "metadata": {},
   "outputs": [
    {
     "ename": "ExecuteError",
     "evalue": "Failed to execute. Parameters are not valid.\nERROR 000732: Input Table: Dataset block_groups does not exist or is not supported\nFailed to execute (AddField).\n",
     "output_type": "error",
     "traceback": [
      "\u001b[0;31m---------------------------------------------------------------------------\u001b[0m\n\u001b[0;31mExecuteError\u001b[0m                              Traceback (most recent call last)",
      "In  \u001b[0;34m[80]\u001b[0m:\nLine \u001b[0;34m5\u001b[0m:     calculatePercentAreaOfPolygonAInPolygonB(input_geodatabase, fcPolygonA, fcPolygonB, idFieldPolygonB)\n",
      "In  \u001b[0;34m[77]\u001b[0m:\nLine \u001b[0;34m3\u001b[0m:     arcpy.AddField_management(fcPolygonB, \u001b[33m\"\u001b[39;49;00m\u001b[33mPercent_Area\u001b[39;49;00m\u001b[33m\"\u001b[39;49;00m, \u001b[33m\"\u001b[39;49;00m\u001b[33mDOUBLE\u001b[39;49;00m\u001b[33m\"\u001b[39;49;00m)\n",
      "File \u001b[0;34mC:\\Program Files\\ArcGIS\\Pro\\Resources\\ArcPy\\arcpy\\management.py\u001b[0m, in \u001b[0;32mAddField\u001b[0m:\nLine \u001b[0;34m5745\u001b[0m:  \u001b[34mraise\u001b[39;49;00m e\n",
      "File \u001b[0;34mC:\\Program Files\\ArcGIS\\Pro\\Resources\\ArcPy\\arcpy\\management.py\u001b[0m, in \u001b[0;32mAddField\u001b[0m:\nLine \u001b[0;34m5742\u001b[0m:  retval = convertArcObjectToPythonObject(gp.AddField_management(*gp_fixargs((in_table, field_name, field_type, field_precision, field_scale, field_length, field_alias, field_is_nullable, field_is_required, field_domain), \u001b[34mTrue\u001b[39;49;00m)))\n",
      "File \u001b[0;34mC:\\Program Files\\ArcGIS\\Pro\\Resources\\ArcPy\\arcpy\\geoprocessing\\_base.py\u001b[0m, in \u001b[0;32m<lambda>\u001b[0m:\nLine \u001b[0;34m512\u001b[0m:   \u001b[34mreturn\u001b[39;49;00m \u001b[34mlambda\u001b[39;49;00m *args: val(*gp_fixargs(args, \u001b[34mTrue\u001b[39;49;00m))\n",
      "\u001b[0;31mExecuteError\u001b[0m: Failed to execute. Parameters are not valid.\nERROR 000732: Input Table: Dataset block_groups does not exist or is not supported\nFailed to execute (AddField).\n\n\u001b[0;31m---------------------------------------------------------------------------\u001b[0m"
     ]
    }
   ],
   "source": [
    "fcPolygonA = \"parks\"\n",
    "fcPolygonB = \"block_groups\"\n",
    "idFieldPolygonB = \"block_group_id\" #insert block id\n",
    "\n",
    "calculatePercentAreaOfPolygonAInPolygonB(input_geodatabase, fcPolygonA, fcPolygonB, idFieldPolygonB)"
   ]
  },
  {
   "cell_type": "code",
   "execution_count": null,
   "metadata": {},
   "outputs": [],
   "source": []
  }
 ],
 "metadata": {
  "kernelspec": {
   "display_name": "Python 3 (ipykernel)",
   "language": "python",
   "name": "python3"
  },
  "language_info": {
   "codemirror_mode": {
    "name": "ipython",
    "version": 3
   },
   "file_extension": ".py",
   "mimetype": "text/x-python",
   "name": "python",
   "nbconvert_exporter": "python",
   "pygments_lexer": "ipython3",
   "version": "3.10.9"
  }
 },
 "nbformat": 4,
 "nbformat_minor": 2
}
