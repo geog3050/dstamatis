{
 "cells": [
  {
   "cell_type": "code",
   "execution_count": null,
   "id": "b32f0146",
   "metadata": {},
   "outputs": [],
   "source": [
    "# Import system modules\n",
    "import arcpy\n",
    "from arcpy.sa import *\n",
    "from arcpy.ia import *"
   ]
  },
  {
   "cell_type": "code",
   "execution_count": null,
   "id": "3c69fd33",
   "metadata": {},
   "outputs": [],
   "source": [
    "# Check out the ArcGIS Spatial Analyst extension license\n",
    "arcpy.CheckOutExtension(\"Spatial\")"
   ]
  },
  {
   "cell_type": "code",
   "execution_count": null,
   "id": "c492d030",
   "metadata": {},
   "outputs": [],
   "source": [
    "# Set the analysis environments\n",
    "arcpy.env.workspace = \"C:/Users/sdion/Desktop/Geospatial Programming/Geospatial_Programming_Project.gdb\"\n",
    "# Check out the ArcGIS Image Analyst extension license\n",
    "arcpy.CheckOutExtension(\"ImageAnalyst\")"
   ]
  },
  {
   "cell_type": "code",
   "execution_count": null,
   "id": "c3c56bce",
   "metadata": {},
   "outputs": [],
   "source": [
    "arcpy.env.overwriteOutput = True\n",
    "print(arcpy.env.workspace)"
   ]
  },
  {
   "cell_type": "code",
   "execution_count": null,
   "id": "f5dc563e",
   "metadata": {},
   "outputs": [],
   "source": [
    "# Import tif, shapefiles and csv files into the geodatabase\n",
    "from arcpy import env\n",
    "arcpy.conversion.RasterToGeodatabase(\"et0_v3_yr.tif;wc2.1_30s_bio_12.tif\", \n",
    "                                     \"Geospatial_Programming_Project.gdb\", \"\")\n",
    "arcpy.management.XYTableToPoint(\"Combined_Stations.csv\", \"Geospatial_Programming_Project.gdb/Weather_Stations\", \"Longtitude\", \"Latitude\", \"#\", arcpy.SpatialReference(\"WGS 1984\"))\n",
    "arcpy.conversion.FeatureClassToFeatureClass(\"USA_Counties.shp\",\n",
    "                                           \"Geospatial_Programming_Project.gdb\",\n",
    "                                           \"USA_Counties\")"
   ]
  },
  {
   "cell_type": "code",
   "execution_count": null,
   "id": "8598df7d",
   "metadata": {},
   "outputs": [],
   "source": [
    "# Input DEM raster file (TIFF format) & Set local variables\n",
    "Annual_ET0 = \"et0_v3_yr.tif\"\n",
    "Annual_Prec = \"wc2.1_30s_bio_12.tif\"\n",
    "USA_Counties = \"USA_Counties.shp\""
   ]
  },
  {
   "cell_type": "code",
   "execution_count": null,
   "id": "975d6e16",
   "metadata": {},
   "outputs": [],
   "source": [
    "# Define input and output paths\n",
    "input_table = \"Geospatial_Programming_Project.gdb/Weather_Stations\"\n",
    "output_table = \"Geospatial_Programming_Project.gdb/stations_utm\""
   ]
  },
  {
   "cell_type": "code",
   "execution_count": null,
   "id": "0441d718",
   "metadata": {},
   "outputs": [],
   "source": [
    "# Define the output coordinate system (NAD 1983 UTM Zone 15N)\n",
    "output_coordinate_system = arcpy.SpatialReference(\"NAD 1983 UTM Zone 15N\")\n",
    "\n",
    "# Project the feature class to the desired coordinate system\n",
    "stations_utm = arcpy.management.Project(input_table, output_table, output_coordinate_system)\n",
    "\n",
    "# You can also print the output variable if you want to confirm its name and location\n",
    "print(stations_utm)"
   ]
  },
  {
   "cell_type": "code",
   "execution_count": null,
   "id": "48f4d6fc",
   "metadata": {},
   "outputs": [],
   "source": [
    "arcpy.Describe(stations_utm)"
   ]
  },
  {
   "cell_type": "code",
   "execution_count": null,
   "id": "61246949",
   "metadata": {},
   "outputs": [],
   "source": [
    "# output data\n",
    "counties_utm = \"USA_Counties_utm.shp\"\n",
    "\n",
    "# create a spatial reference object for the output coordinate system\n",
    "out_coordinate_system = arcpy.SpatialReference('NAD 1983 UTM Zone 15N')\n",
    "\n",
    "# run the tool\n",
    "arcpy.Project_management(USA_Counties, counties_utm, out_coordinate_system)"
   ]
  },
  {
   "cell_type": "code",
   "execution_count": null,
   "id": "547cb55a",
   "metadata": {},
   "outputs": [],
   "source": [
    "arcpy.Describe(Annual_ET0)\n",
    "\n",
    "arcpy.Describe(Annual_Prec)"
   ]
  },
  {
   "cell_type": "code",
   "execution_count": null,
   "id": "1acdab50",
   "metadata": {},
   "outputs": [],
   "source": [
    "# Define the input raster and output raster paths\n",
    "input_raster = Annual_ET0\n",
    "output_raster = \"Annual_ET0_utm\"\n",
    "\n",
    "# Remove invalid characters from the output raster name\n",
    "output_raster = arcpy.ValidateTableName(output_raster)\n",
    "\n",
    "# Define the spatial reference using a factory code\n",
    "spatial_ref = arcpy.SpatialReference(26915)  # Factory code for NAD 1983 UTM Zone 15N\n",
    "\n",
    "# Project the raster\n",
    "arcpy.ProjectRaster_management(input_raster, output_raster, spatial_ref)"
   ]
  },
  {
   "cell_type": "code",
   "execution_count": null,
   "id": "cbb10177",
   "metadata": {},
   "outputs": [],
   "source": [
    "# Define the input raster and output raster paths\n",
    "input_raster1 = Annual_Prec\n",
    "output_raster1 = \"Annual_Prec_utm\"\n",
    "\n",
    "# Remove invalid characters from the output raster name\n",
    "output_raster = arcpy.ValidateTableName(output_raster)\n",
    "\n",
    "# Define the spatial reference using a factory code\n",
    "spatial_ref = arcpy.SpatialReference(26915)  # Factory code for NAD 1983 UTM Zone 15N\n",
    "\n",
    "# Project the raster\n",
    "arcpy.ProjectRaster_management(input_raster1, output_raster1, spatial_ref)"
   ]
  },
  {
   "cell_type": "code",
   "execution_count": null,
   "id": "ec0cfc91",
   "metadata": {},
   "outputs": [],
   "source": [
    "# Select Perry county in Missouri by using the FIPS code and the name of the county\n",
    "sql = \"FIPS = '29157'\"\n",
    "perry_lyr = arcpy.management.SelectLayerByAttribute(counties_utm, \"NEW_SELECTION\",sql)\n",
    "\n",
    "# Write the selected features to a new feature class\n",
    "arcpy.management.CopyFeatures(perry_lyr, 'perry')"
   ]
  },
  {
   "cell_type": "code",
   "execution_count": null,
   "id": "559c0c9a",
   "metadata": {},
   "outputs": [],
   "source": [
    "# Set input and output raster paths\n",
    "output_raster2 = \"AnET0\"\n",
    "\n",
    "# Clip the raster\n",
    "arcpy.management.Clip(output_raster, \"#\", output_raster2, \"perry\", \"#\", \"ClippingGeometry\")"
   ]
  },
  {
   "cell_type": "code",
   "execution_count": null,
   "id": "f5c89708",
   "metadata": {},
   "outputs": [],
   "source": [
    "# Set input and output raster paths\n",
    "output_raster3 = \"AnPrec\"\n",
    "\n",
    "# Clip the raster\n",
    "arcpy.management.Clip(output_raster1, \"#\", output_raster3, \"perry\", \"#\", \"ClippingGeometry\")"
   ]
  },
  {
   "cell_type": "code",
   "execution_count": null,
   "id": "a4e1db21",
   "metadata": {},
   "outputs": [],
   "source": [
    "# Set local variables\n",
    "AnET0_Perry = output_raster2\n",
    "AnPrec_Perry = output_raster3\n",
    "\n",
    "# Execute Minus\n",
    "outMinus = Minus(AnPrec_Perry,AnET0_Perry)\n",
    "\n",
    "# Save the output \n",
    "outMinus.save(\"C:/Users/sdion/Desktop/Geospatial Programming/Geospatial_Programming_Project.gdb/Eff_Rain_Perry.tif\")"
   ]
  },
  {
   "cell_type": "code",
   "execution_count": null,
   "id": "b3101e1e",
   "metadata": {},
   "outputs": [],
   "source": [
    "import arcpy\n",
    "from arcpy import env  \n",
    "from arcpy.sa import *"
   ]
  },
  {
   "cell_type": "code",
   "execution_count": null,
   "id": "f2ab24c9",
   "metadata": {},
   "outputs": [],
   "source": [
    "# Create points using the provided coordinates\n",
    "point1 = arcpy.Point(-89.791667, 37.666667)\n",
    "point2 = arcpy.Point(-89.875, 37.75)\n",
    "\n",
    "# Create point geometries from the points\n",
    "point_geom1 = arcpy.PointGeometry(point1, arcpy.SpatialReference(4326))  # WGS 1984\n",
    "point_geom2 = arcpy.PointGeometry(point2, arcpy.SpatialReference(4326))  # WGS 1984\n",
    "\n",
    "# Define the output coordinate system (NAD 1983 UTM Zone 15N)\n",
    "output_coordinate_system = arcpy.SpatialReference(\"NAD 1983 UTM Zone 15N\")\n",
    "\n",
    "# Project the point geometries to the desired coordinate system\n",
    "projected_point1 = point_geom1.projectAs(output_coordinate_system)\n",
    "projected_point2 = point_geom2.projectAs(output_coordinate_system)\n",
    "\n",
    "# Print the projected coordinates\n",
    "print(\"Projected coordinates of (-89.791667, 37.666667): \", projected_point1.centroid)\n",
    "print(\"Projected coordinates of (-89.875, 37.75): \", projected_point2.centroid)"
   ]
  },
  {
   "cell_type": "code",
   "execution_count": null,
   "id": "9e5b769c",
   "metadata": {},
   "outputs": [],
   "source": [
    "# Set the extent environment\n",
    "arcpy.env.extent = arcpy.Extent(782991.06, 4173676.54, 775329.93, 4182676.98)\n",
    "\n",
    "# Perform IDW interpolation\n",
    "outIDW = arcpy.sa.Idw(\"Geospatial_Programming_Project.gdb/stations_utm\", \"Annual_Effective_Rainfall_mm_2023\", 17, 1)\n",
    "\n",
    "# Save the result\n",
    "outIDW.save(\"Geospatial_Programming_Project.gdb/Idw_Project.shp\")"
   ]
  },
  {
   "cell_type": "code",
   "execution_count": null,
   "id": "c7acb35b",
   "metadata": {},
   "outputs": [],
   "source": [
    "# Execute Minus to find the difference between the historic and modern effective rainfall\n",
    "Eff_Rain_diff = Minus(outMinus,outIDW)\n",
    "\n",
    "# Save the output \n",
    "outMinus.save(\"C:/Users/sdion/Desktop/Geospatial Programming/Geospatial_Programming_Project.gdb/Eff_Rain_diff.tif\")"
   ]
  }
 ],
 "metadata": {
  "kernelspec": {
   "display_name": "Python 3 (ipykernel)",
   "language": "python",
   "name": "python3"
  },
  "language_info": {
   "codemirror_mode": {
    "name": "ipython",
    "version": 3
   },
   "file_extension": ".py",
   "mimetype": "text/x-python",
   "name": "python",
   "nbconvert_exporter": "python",
   "pygments_lexer": "ipython3",
   "version": "3.11.5"
  }
 },
 "nbformat": 4,
 "nbformat_minor": 5
}
